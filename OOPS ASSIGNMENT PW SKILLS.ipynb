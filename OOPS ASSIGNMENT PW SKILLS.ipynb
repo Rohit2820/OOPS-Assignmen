{
 "cells": [
  {
   "cell_type": "markdown",
   "id": "86b47d4f-860e-4702-83a0-0145887ab41a",
   "metadata": {},
   "source": [
    "Problem 1: Bank Account Create a class representing a bank account with attributes like account number, account holder name, and balance. Implement methods to deposit and withdraw money from the account.\n",
    "\n",
    "Problem 2: Employee Management Create a class representing an employee with attributes like employee ID, name, and salary. Implement methods to calculate the yearly bonus and display employee details.\n",
    "\n",
    "Problem 3: Vehicle Rental Create a class representing a vehicle rental system. Implement methods to rent a vehicle, return a vehicle, and display available vehicles.\n",
    "\n",
    "Problem 4: Library Catalog Create classes representing a library and a book. Implement methods to add books to the library, borrow books, and display available books.\n",
    "\n",
    "Problem 5: Product Inventory Create classes representing a product and an inventory system. Implement methods to add products to the inventory, update product quantity, and display available products.\n",
    "\n",
    "Problem 6: Shape Calculation Create a class representing a shape with attributes like length, width, and height. Implement methods to calculate the area and perimeter of the shape.\n",
    "\n",
    "Problem 7: Student Management Create a class representing a student with attributes like student ID, name, and grades. Implement methods to calculate the average grade and display student details.\n",
    "\n",
    "Problem 8: Email Management Create a class representing an email with attributes like sender, recipient, and subject. Implement methods to send an email and display email details.\n",
    "\n",
    "Problem 9: Social Media Profile Create a class representing a social media profile with attributes like username and posts. Implement methods to add posts, display posts, and search for posts by keyword.\n",
    "\n",
    "Problem 10: ToDo List Create a class representing a ToDo list with attributes like tasks and due dates. Implement methods to add tasks, mark tasks as completed, and display pending tasks."
   ]
  },
  {
   "cell_type": "code",
   "execution_count": null,
   "id": "fef1683a-faa4-4d27-a0a6-7a742e512e9b",
   "metadata": {},
   "outputs": [],
   "source": []
  },
  {
   "cell_type": "markdown",
   "id": "6f0106ac",
   "metadata": {},
   "source": [
    "Problem 1: Bank Account Create a class representing a bank account with attributes like account number, account holder name, and balance. Implement methods to deposit and withdraw money from the account"
   ]
  },
  {
   "cell_type": "code",
   "execution_count": 11,
   "id": "c3b0e25d",
   "metadata": {},
   "outputs": [],
   "source": [
    "class BankAccount():\n",
    "    def __init__(self,bankAccount,accountNumm,accountHolder):\n",
    "        self.bankAccount = bankAccount\n",
    "        self.accountNumm = accountNumm\n",
    "        self.accountHolder = accountHolder\n",
    "    def deposit(self,money):\n",
    "        return f'From {self.bankAccount},  {self.accountHolder} account {self.accountNumm} is credited with {money} INR';\n",
    "    def withdraw(self,money):\n",
    "        return f'From {self.bankAccount},  {self.accountHolder} Your account {self.accountNumm} is debited with {money} INR';"
   ]
  },
  {
   "cell_type": "code",
   "execution_count": 12,
   "id": "61fe1b5f",
   "metadata": {},
   "outputs": [],
   "source": [
    "rohit = BankAccount('SBI',234567898765,'Rohit')"
   ]
  },
  {
   "cell_type": "code",
   "execution_count": 13,
   "id": "ce6a6708",
   "metadata": {},
   "outputs": [
    {
     "data": {
      "text/plain": [
       "'From SBI,  Rohit account 234567898765 is credited with 234453 INR'"
      ]
     },
     "execution_count": 13,
     "metadata": {},
     "output_type": "execute_result"
    }
   ],
   "source": [
    "rohit.deposit(234453)"
   ]
  },
  {
   "cell_type": "code",
   "execution_count": 14,
   "id": "b3a1ed9d",
   "metadata": {},
   "outputs": [
    {
     "data": {
      "text/plain": [
       "'From SBI,  Rohit Your account 234567898765 is debited with 65432 INR'"
      ]
     },
     "execution_count": 14,
     "metadata": {},
     "output_type": "execute_result"
    }
   ],
   "source": [
    "rohit.withdraw(65432)"
   ]
  },
  {
   "cell_type": "code",
   "execution_count": null,
   "id": "d9f3b65a",
   "metadata": {},
   "outputs": [],
   "source": []
  },
  {
   "cell_type": "markdown",
   "id": "81755a29",
   "metadata": {},
   "source": [
    "Problem 2: Employee Management Create a class representing an employee with attributes like employee ID, name, and salary. Implement methods to calculate the yearly bonus and display employee details."
   ]
  },
  {
   "cell_type": "code",
   "execution_count": 24,
   "id": "c293eb71",
   "metadata": {},
   "outputs": [],
   "source": [
    "class Employee:\n",
    "    def __init__(self,empId,empName,empSalary):\n",
    "        self.empId = empId\n",
    "        self.empName = empName\n",
    "        self.empSal = empSalary\n",
    "    def empDetails(self):\n",
    "        print(\" Employee Name : \",self.empName, \"\\n\",\"EmployeeId : \",self.empId,\"\\n\",\"Employee Salary : \",self.empSal)\n",
    "    def yearlyBonus(self,bonusRate):\n",
    "        bonus = self.empSal*(bonusRate/100);\n",
    "        return f'Yearly Bonus of {self.empName} is : {bonus}';\n",
    "        \n",
    "        "
   ]
  },
  {
   "cell_type": "code",
   "execution_count": 25,
   "id": "386c9a4b",
   "metadata": {},
   "outputs": [],
   "source": [
    "rohit = Employee(1234,\"Rohit Kumar\",456786543)"
   ]
  },
  {
   "cell_type": "code",
   "execution_count": 26,
   "id": "5e1268d9",
   "metadata": {},
   "outputs": [
    {
     "name": "stdout",
     "output_type": "stream",
     "text": [
      " Employee Name :  Rohit Kumar \n",
      " EmployeeId :  1234 \n",
      " Employee Salary :  456786543\n"
     ]
    }
   ],
   "source": [
    "rohit.empDetails()"
   ]
  },
  {
   "cell_type": "code",
   "execution_count": 27,
   "id": "b825bfee",
   "metadata": {},
   "outputs": [
    {
     "data": {
      "text/plain": [
       "'Yearly Bonus of Rohit Kumar is : 45678654.300000004'"
      ]
     },
     "execution_count": 27,
     "metadata": {},
     "output_type": "execute_result"
    }
   ],
   "source": [
    "rohit.yearlyBonus(10)"
   ]
  },
  {
   "cell_type": "code",
   "execution_count": null,
   "id": "6b7f8896",
   "metadata": {},
   "outputs": [],
   "source": []
  },
  {
   "cell_type": "markdown",
   "id": "2961885d",
   "metadata": {},
   "source": [
    "Problem 3: Vehicle Rental Create a class representing a vehicle rental system. Implement methods to rent a vehicle, return a vehicle, and display available vehicles."
   ]
  },
  {
   "cell_type": "code",
   "execution_count": 69,
   "id": "686f63b7",
   "metadata": {},
   "outputs": [],
   "source": [
    "class VehicleRentalSys:\n",
    "    \n",
    "    ## Taking user's input for each object\n",
    "    \n",
    "    \n",
    "    def __init__(self):\n",
    "        self.vehicleName =list(input('Enter Vehicles you have for rent: ').split(' '));\n",
    "        self.vehicleCount =list(input('Enter the count of vehicles you have in same order of vehicle name seprated by space').split(' '));\n",
    "        self.vehicleDetails = dict(zip(self.vehicleName,self.vehicleCount));\n",
    "        \n",
    "    ## Creating Method to Display Available Vehicles\n",
    "    \n",
    "    def vehicleAvailable(self):\n",
    "        self.vehicleDetails = {k:int(v) for k,v in self.vehicleDetails.items()}\n",
    "        return self.vehicleDetails\n",
    "    \n",
    "    ## Creating Method to Display Vehicles On Rent\n",
    "    \n",
    "    \n",
    "    def RentVehicle(self,vehicleName,noOfvehicle):\n",
    "        if(vehicleName in self.vehicleDetails):\n",
    "            print('Yes this vehicle is available for rent')\n",
    "            if(self.vehicleDetails[vehicleName]>=1):\n",
    "                print('Do you want to borrow say yes or no ! ')\n",
    "                self.userAnswer = input();\n",
    "                if(self.userAnswer.lower()=='yes'): \n",
    "                    self.vehicleDetails[vehicleName]= self.vehicleDetails[vehicleName] - noOfvehicle;\n",
    "                    print('You got the vehicle thankYou')\n",
    "                else:\n",
    "                    print('Thank You for coming')\n",
    "            else:\n",
    "                print(f'sorry {noOfvehicle} vehicle is not available :) ')\n",
    "                print('Here is the list of Available vehicle');\n",
    "                self.vehicleDetails.pop(vehicleName)\n",
    "                print(self.vehicleDetails)\n",
    "        else:\n",
    "            print('sorry this vehicle is not available :) ')\n",
    "            print('Here is the list of Available vehicle');\n",
    "            print(self.vehicleDetails);\n",
    "            \n",
    "            \n",
    "    ## Creating Method to Return Vehicles \n",
    "    \n",
    "    \n",
    "    def vehicleReturn(self,vehicleName,noOfVehicle):\n",
    "        print('We received our VehicleBack ThankYou :) ')\n",
    "        print(\"Here is the updated list of Vehicles\")\n",
    "        if(vehicleName in self.vehicleDetails):\n",
    "            self.vehicleDetails[vehicleName]=self.vehicleDetails[vehicleName]+noOfVehicle;\n",
    "            print(self.vehicleDetails)\n",
    "        else:\n",
    "            self.vehicleDetails[vehicleName] = noOfVehicle;\n",
    "            print(self.vehicleDetails)\n",
    "            \n",
    "            \n",
    "        \n",
    "                \n",
    "            "
   ]
  },
  {
   "cell_type": "code",
   "execution_count": null,
   "id": "fd7f450a",
   "metadata": {},
   "outputs": [],
   "source": [
    "## Driver Code\n",
    "vehicles = VehicleRentalSys()"
   ]
  },
  {
   "cell_type": "code",
   "execution_count": null,
   "id": "d2803222",
   "metadata": {},
   "outputs": [],
   "source": []
  },
  {
   "cell_type": "markdown",
   "id": "d9482d35",
   "metadata": {},
   "source": [
    "Problem 4: Library Catalog Create classes representing a library and a book. Implement methods to add books to the library, borrow books, and display available books."
   ]
  },
  {
   "cell_type": "code",
   "execution_count": 42,
   "id": "d44211d9",
   "metadata": {},
   "outputs": [],
   "source": [
    "class LibraryCatalog:\n",
    "    def __init__(self):\n",
    "        self.libraryName = input('Please Enter Your Library Name ');\n",
    "        self.AvailBooks = list(input('please Enter Books in your Library by giving space').split(' '))\n",
    "        self.BooksCount = list(input('please Enter the count of each book in same order as entered above by giving space').split(' '))\n",
    "        self.BooksAvailable = dict(zip(self.AvailBooks,self.BooksCount))\n",
    "        self.BooksDetails = {k:int(v) for k,v in self.BooksAvailable.items()}\n",
    "        \n",
    "    def AvailableBooks(self):\n",
    "        return self.BooksDetails\n",
    "    \n",
    "    def borrowBooks(self,bookName,noOfBooks):\n",
    "        if(bookName in self.BooksDetails):\n",
    "            print('Yes this book is available')\n",
    "            if(self.BooksDetails[bookName]<noOfBooks):\n",
    "                print(f'sorry only {self.BooksDetails[bookName]} is available')\n",
    "            else:\n",
    "                print('Do you want to borrow this book say yes or no')\n",
    "                userAnswer = input().lower()\n",
    "                if(userAnswer=='yes'):\n",
    "                    print('You got the books ThankYou :) ')\n",
    "                    self.BooksDetails[bookName]= self.BooksDetails[bookName]-noOfBooks;\n",
    "                else:\n",
    "                    print('ThankYou for Coming :) ')\n",
    "        else:\n",
    "            print('sorry this book is not available \\n Here is the list of Available Books')\n",
    "            print(self.BooksDetails)\n",
    "            \n",
    "    def addBooks(self,bookName,noOfBooks):\n",
    "        if(bookName not in self.BooksDetails):\n",
    "            self.BooksDetails[bookName]=noOfBooks;\n",
    "            print('Book Added successfully \\n here is the updated Books')\n",
    "            print(self.BooksDetails)\n",
    "        else:\n",
    "            self.BooksDetails[bookName] = self.BooksDetails[bookName]+noOfBooks;\n",
    "            print('Book Added successfully \\n here is the updated Books');\n",
    "            print(self.BooksDetails);\n",
    "            \n",
    "        \n",
    "            \n",
    "                \n",
    "    "
   ]
  },
  {
   "cell_type": "markdown",
   "id": "325d0848",
   "metadata": {},
   "source": [
    "Problem 5: Product Inventory Create classes representing a product and an inventory system. Implement methods to add products to the inventory, update product quantity, and display available products."
   ]
  },
  {
   "cell_type": "code",
   "execution_count": 19,
   "id": "d800ac2f",
   "metadata": {},
   "outputs": [],
   "source": [
    "class ProductInventry:\n",
    "    def __init__(self):\n",
    "        self.productsName = list(input('Enter your products here by giving space ').split(' '));\n",
    "        self.productCount = list(input('Enter the count of each product by giving in same order').split());\n",
    "        self.productDetails = dict(zip(self.productsName,self.productCount));\n",
    "        self.productAvailable = {k:int(v) for k,v in self.productDetails.items()}\n",
    "    def availProducts(self):\n",
    "        return self.productAvailable\n",
    "    def addProducts(self,productName,productQuantity):\n",
    "        self.productAvailable[productName]= productQuantity;\n",
    "    def updateProductQuantity(self,productName,productQuantity):\n",
    "        if productName in self.productAvailable:\n",
    "            self.productAvailable[productName]=productQuantity;\n",
    "        else:\n",
    "            return f'sorry {productName} is not in Available Products';\n",
    "    "
   ]
  },
  {
   "cell_type": "code",
   "execution_count": 20,
   "id": "39aa8dd5",
   "metadata": {},
   "outputs": [
    {
     "name": "stdout",
     "output_type": "stream",
     "text": [
      "Enter your products here by giving space Deo ColdCream\n",
      "Enter the count of each product by giving in same order2 4\n"
     ]
    }
   ],
   "source": [
    "product = ProductInventry()"
   ]
  },
  {
   "cell_type": "code",
   "execution_count": 21,
   "id": "d3ef26d5",
   "metadata": {},
   "outputs": [
    {
     "data": {
      "text/plain": [
       "{'Deo': 2, 'ColdCream': 4}"
      ]
     },
     "execution_count": 21,
     "metadata": {},
     "output_type": "execute_result"
    }
   ],
   "source": [
    "product.availProducts() "
   ]
  },
  {
   "cell_type": "code",
   "execution_count": 22,
   "id": "2733ca91",
   "metadata": {},
   "outputs": [],
   "source": [
    "product.addProducts('HandWash',4)"
   ]
  },
  {
   "cell_type": "code",
   "execution_count": 23,
   "id": "e3e4e852",
   "metadata": {},
   "outputs": [
    {
     "data": {
      "text/plain": [
       "{'Deo': 2, 'ColdCream': 4, 'HandWash': 4}"
      ]
     },
     "execution_count": 23,
     "metadata": {},
     "output_type": "execute_result"
    }
   ],
   "source": [
    "product.availProducts()"
   ]
  },
  {
   "cell_type": "code",
   "execution_count": 24,
   "id": "b9739fc4",
   "metadata": {},
   "outputs": [],
   "source": [
    "product.updateProductQuantity('Deo',4)"
   ]
  },
  {
   "cell_type": "code",
   "execution_count": 25,
   "id": "ad7f70a7",
   "metadata": {},
   "outputs": [
    {
     "data": {
      "text/plain": [
       "{'Deo': 4, 'ColdCream': 4, 'HandWash': 4}"
      ]
     },
     "execution_count": 25,
     "metadata": {},
     "output_type": "execute_result"
    }
   ],
   "source": [
    "product.availProducts()"
   ]
  },
  {
   "cell_type": "code",
   "execution_count": null,
   "id": "9a911056",
   "metadata": {},
   "outputs": [],
   "source": []
  },
  {
   "cell_type": "markdown",
   "id": "7d9f655e",
   "metadata": {},
   "source": [
    "Problem 6: Shape Calculation Create a class representing a shape with attributes like length, width, and height. Implement methods to calculate the area and perimeter of the shape"
   ]
  },
  {
   "cell_type": "code",
   "execution_count": 32,
   "id": "8a02b7bd",
   "metadata": {},
   "outputs": [],
   "source": [
    "class ShapeCalculation:\n",
    "    def __init__(self,shape):\n",
    "        self.shape = shape;\n",
    "#         self.length = int(input('Enter Length'));\n",
    "#         self.width = int(input('Enter width'));\n",
    "#         self.height =int(input('Enter Height'));\n",
    "    def AreaOfShape(self,length,width,height):\n",
    "        if self.shape.lower() == 'rectangle':\n",
    "            return f' Area of {self.shape} is : {length*width}';\n",
    "        elif self.shape.lower()=='triangle':\n",
    "            return f'Area of {self.shape} is : {0.5*width*height}';\n",
    "        elif self.shape.lower()=='square':\n",
    "            return f'Area of {self.shape} is : {length*length}';\n",
    "        else:\n",
    "            return f'Unrecongnised Shape sorry can not calculate area';\n",
    "    def PerimeterOfShape(self,length,width,height):\n",
    "        if self.shape.lower()=='rectangle':\n",
    "            return f'Perimeter of {self.shape} is {2 *(width+height)}'\n",
    "        elif self.shape.lower()=='triangle':\n",
    "            return f'Perimeter of {self.shape} is {length}'\n",
    "        elif self.shape.lower()=='square':\n",
    "            return f'Perimeter of {self.shape} is : {4*length}'\n",
    "        else:\n",
    "            return f'Unrecognised shape sorry Can not calculate perimeter';\n",
    "            \n",
    "            \n",
    "        \n",
    "        "
   ]
  },
  {
   "cell_type": "code",
   "execution_count": 33,
   "id": "0f2edebf",
   "metadata": {},
   "outputs": [],
   "source": [
    "shapes = ShapeCalculation('rectangle')"
   ]
  },
  {
   "cell_type": "code",
   "execution_count": 34,
   "id": "9069e56d",
   "metadata": {},
   "outputs": [
    {
     "data": {
      "text/plain": [
       "' Area of rectangle is : 900'"
      ]
     },
     "execution_count": 34,
     "metadata": {},
     "output_type": "execute_result"
    }
   ],
   "source": [
    "shapes.AreaOfShape(30,30,30)"
   ]
  },
  {
   "cell_type": "code",
   "execution_count": 35,
   "id": "cd211e62",
   "metadata": {},
   "outputs": [],
   "source": [
    "square = ShapeCalculation('square');"
   ]
  },
  {
   "cell_type": "code",
   "execution_count": 36,
   "id": "ed251c11",
   "metadata": {},
   "outputs": [
    {
     "data": {
      "text/plain": [
       "'Area of square is : 100'"
      ]
     },
     "execution_count": 36,
     "metadata": {},
     "output_type": "execute_result"
    }
   ],
   "source": [
    "square.AreaOfShape(10,10,40)"
   ]
  },
  {
   "cell_type": "code",
   "execution_count": null,
   "id": "8a2d5858",
   "metadata": {},
   "outputs": [],
   "source": []
  },
  {
   "cell_type": "markdown",
   "id": "5d6c6fb1",
   "metadata": {},
   "source": [
    "Problem 7: Student Management Create a class representing a student with attributes like student ID, name, and grades. Implement methods to calculate the average grade and display student details."
   ]
  },
  {
   "cell_type": "code",
   "execution_count": 40,
   "id": "f40f5716",
   "metadata": {},
   "outputs": [],
   "source": [
    "class StudentManagement:\n",
    "    def __init__(self,studentId,studentName,studentGrade):\n",
    "        self.studentId = studentId;\n",
    "        self.studentName = studentName;\n",
    "        self.studentGrade = studentGrade;\n",
    "    \n",
    "    def AverageGrade(self,Marks):\n",
    "        if(Marks>60 and Marks<70):\n",
    "            return f'Grade is : C'\n",
    "        elif(Marks>=70 and Marks<80):\n",
    "            return f'Grade is : B'\n",
    "        elif(Marks>=80 and Marks<90):\n",
    "            return f'Grade is : A'\n",
    "        else:\n",
    "            return f'Grade is : A+'\n",
    "    def StudentDetails(self):\n",
    "        print(f'Student Name is : {self.studentName} \\n Student Id is : {self.studentId} \\n Student Grade is : {self.studentGrade}');"
   ]
  },
  {
   "cell_type": "code",
   "execution_count": 41,
   "id": "13d3efb6",
   "metadata": {},
   "outputs": [],
   "source": [
    "rohit = StudentManagement(322,'Rohit',\"A+\")"
   ]
  },
  {
   "cell_type": "code",
   "execution_count": 42,
   "id": "c393f01c",
   "metadata": {},
   "outputs": [
    {
     "name": "stdout",
     "output_type": "stream",
     "text": [
      "Student Name is : Rohit \n",
      " Student Id is : 322 \n",
      " Student Grade is : A+\n"
     ]
    }
   ],
   "source": [
    "rohit.StudentDetails()"
   ]
  },
  {
   "cell_type": "code",
   "execution_count": 43,
   "id": "58a8a58b",
   "metadata": {},
   "outputs": [
    {
     "data": {
      "text/plain": [
       "'Grade is : B'"
      ]
     },
     "execution_count": 43,
     "metadata": {},
     "output_type": "execute_result"
    }
   ],
   "source": [
    "rohit.AverageGrade(70)"
   ]
  },
  {
   "cell_type": "code",
   "execution_count": null,
   "id": "7e34f66c",
   "metadata": {},
   "outputs": [],
   "source": []
  },
  {
   "cell_type": "markdown",
   "id": "c8d20f9b",
   "metadata": {},
   "source": [
    "Problem 8: Email Management Create a class representing an email with attributes like sender, recipient, and subject. Implement methods to send an email and display email details."
   ]
  },
  {
   "cell_type": "code",
   "execution_count": 44,
   "id": "a48d7467",
   "metadata": {},
   "outputs": [],
   "source": [
    "class EmailManagement:\n",
    "    def __init__(self,sender,recipient,subject):\n",
    "        self.sender = sender;\n",
    "        self.recipient = recipient;\n",
    "        self.subject = subject;\n",
    "        self.writeEmail = ''\n",
    "    def sendEmail(self):\n",
    "        self.writeEmail = input('Write your Email');\n",
    "        self.userAnswer = input('Enter yes to send ');\n",
    "        if(self.userAnswer.lower()=='yes'):\n",
    "            print('Email sent successfully ')\n",
    "        else:\n",
    "            print('You cancelled the Mail sending Process');\n",
    "    def DisplayEmailDetails(self):\n",
    "        print(f'Sender is : {self.sender} \\n Recipient is : {self.recipient} \\n Subject is : {self.subject} \\n Message is : {self.writeEmail}')\n",
    "        "
   ]
  },
  {
   "cell_type": "code",
   "execution_count": 45,
   "id": "034ff6ba",
   "metadata": {},
   "outputs": [],
   "source": [
    "rohit = EmailManagement('Rohit','Mohit','PaiseWapisDe')"
   ]
  },
  {
   "cell_type": "code",
   "execution_count": 46,
   "id": "87aad8cc",
   "metadata": {},
   "outputs": [
    {
     "name": "stdout",
     "output_type": "stream",
     "text": [
      "Write your EmailAbe mere paise wapas kb dega tu\n",
      "Enter yes to send yes\n",
      "Email sent successfully \n"
     ]
    }
   ],
   "source": [
    "rohit.sendEmail()"
   ]
  },
  {
   "cell_type": "code",
   "execution_count": 47,
   "id": "0909d498",
   "metadata": {},
   "outputs": [
    {
     "name": "stdout",
     "output_type": "stream",
     "text": [
      "Sender is : Rohit \n",
      " Recipient is : Mohit \n",
      " Subject is : PaiseWapisDe \n",
      " Message is : Abe mere paise wapas kb dega tu\n"
     ]
    }
   ],
   "source": [
    "rohit.DisplayEmailDetails()"
   ]
  },
  {
   "cell_type": "code",
   "execution_count": null,
   "id": "0cc77096",
   "metadata": {},
   "outputs": [],
   "source": []
  },
  {
   "cell_type": "markdown",
   "id": "12db98c9",
   "metadata": {},
   "source": [
    "Problem 9: Social Media Profile Create a class representing a social media profile with attributes like username and posts. Implement methods to add posts, display posts, and search for posts by keyword."
   ]
  },
  {
   "cell_type": "code",
   "execution_count": 10,
   "id": "0bdcfb2b",
   "metadata": {},
   "outputs": [],
   "source": [
    "class SocialMedia:\n",
    "    def __init__(self,username):\n",
    "        self.username = username;\n",
    "        self.postsName = list(input('Enter PostsName').split(','));\n",
    "        self.posts = list(input('Enter Posts').split(','));\n",
    "        self.AllPosts = dict(zip(self.postsName,self.posts))\n",
    "    def AddPosts(self,new_posts):\n",
    "        self.new_posts = new_posts;\n",
    "        new_postsDesc = input('Write Post')\n",
    "        self.AllPosts[new_posts]=new_postsDesc;\n",
    "    def DisplayPosts(self):\n",
    "        print(self.AllPosts);\n",
    "    def SerchPostsByKeyword(self,Keyword):\n",
    "        self.Keyword = Keyword\n",
    "        for i in self.AllPosts.keys():\n",
    "            if(self.Keyword in i):\n",
    "                print(f'{i} : {self.AllPosts[i]}')\n",
    "        \n",
    "        "
   ]
  },
  {
   "cell_type": "code",
   "execution_count": 11,
   "id": "d5633af7",
   "metadata": {},
   "outputs": [
    {
     "name": "stdout",
     "output_type": "stream",
     "text": [
      "Enter PostsNameljfks;dlfksj;df\n",
      "Enter Postsjkdfhsdlfkj\n"
     ]
    }
   ],
   "source": [
    "rohit = SocialMedia('Rohit')"
   ]
  },
  {
   "cell_type": "code",
   "execution_count": 12,
   "id": "a85fbf4a",
   "metadata": {},
   "outputs": [
    {
     "name": "stdout",
     "output_type": "stream",
     "text": [
      "Write Postf;ljkdsjfksdfjhudhfohfu;lasdhf;ajsdf;ajdf;\n"
     ]
    }
   ],
   "source": [
    "rohit.AddPosts('Felling Good')"
   ]
  },
  {
   "cell_type": "code",
   "execution_count": 13,
   "id": "0312af6f",
   "metadata": {},
   "outputs": [
    {
     "name": "stdout",
     "output_type": "stream",
     "text": [
      "{'ljfks;dlfksj;df': 'jkdfhsdlfkj', 'Felling Good': 'f;ljkdsjfksdfjhudhfohfu;lasdhf;ajsdf;ajdf;'}\n"
     ]
    }
   ],
   "source": [
    "rohit.DisplayPosts()"
   ]
  },
  {
   "cell_type": "code",
   "execution_count": 14,
   "id": "708111b6",
   "metadata": {},
   "outputs": [
    {
     "name": "stdout",
     "output_type": "stream",
     "text": [
      "Felling Good : f;ljkdsjfksdfjhudhfohfu;lasdhf;ajsdf;ajdf;\n"
     ]
    }
   ],
   "source": [
    "rohit.SerchPostsByKeyword('Fe')"
   ]
  },
  {
   "cell_type": "code",
   "execution_count": null,
   "id": "455a16eb",
   "metadata": {},
   "outputs": [],
   "source": []
  },
  {
   "cell_type": "code",
   "execution_count": null,
   "id": "02bf47f5",
   "metadata": {},
   "outputs": [],
   "source": []
  },
  {
   "cell_type": "markdown",
   "id": "98e5e141",
   "metadata": {},
   "source": [
    "Problem 10: ToDo List Create a class representing a ToDo list with attributes like tasks and due dates. Implement methods to add tasks, mark tasks as completed, and display pending tasks."
   ]
  },
  {
   "cell_type": "code",
   "execution_count": 62,
   "id": "e87ad293",
   "metadata": {},
   "outputs": [],
   "source": [
    "class ToDoList:\n",
    "    def __init__(self):\n",
    "        self.tasks = list(input('Enter Tasks by giving comma').split(','));\n",
    "        self.taskDesc = list(input('Enter Tasks Description by giving Comma').split(','));\n",
    "        self.dueDate = list(input('Enter due date in DD-MM-YYYY format by giving comma').split(','));\n",
    "        self.TaskStatus = list(input('Enter Task Status').split(','));\n",
    "        self.AllTasks = dict(zip(self.tasks,self.taskDesc))\n",
    "        self.AllTaskDueDate = dict(zip(self.tasks,self.dueDate));\n",
    "        self.TaskStatuses = dict(zip(self.tasks,self.TaskStatus));\n",
    "        \n",
    "    def PendingTasks(self):\n",
    "        self.newDict = {}\n",
    "        for k,v in self.TaskStatuses.items():\n",
    "            if v.lower()!='completed':\n",
    "                self.newDict[k]=v;\n",
    "            else:\n",
    "                continue;\n",
    "        if self.newDict.items()!={}:\n",
    "            return self.newDict;\n",
    "        else:\n",
    "            return f'You do not have any pending tasks ';\n",
    "        \n",
    "    def AddTasks(self):\n",
    "        self.newTask = input('Enter Tasks to add to your lists');\n",
    "        self.newTaskDesc = input('Enter Task Description Here')\n",
    "        self.newTaskStatus = input('Enter the current Status of your Tasks');\n",
    "        self.newTaskdueDate = input('Enter the task due date in DD-MM-YYYY format')\n",
    "        self.AllTasks[self.newTask]=self.newTaskDesc;\n",
    "        self.TaskStatuses[self.newTask]=self.newTaskStatus;\n",
    "        self.AllTaskDueDate[self.newTask]=self.newTaskdueDate\n",
    "            \n",
    "    def MarkedCompleted(self):\n",
    "        self.inputTask = input('Enter Task you want to mark Completed');\n",
    "        for k,v in self.TaskStatuses.items():\n",
    "            if(k==self.inputTask):\n",
    "                self.TaskStatuses[k]='completed'\n",
    "                self.newDict.pop(k);\n",
    "                return f'Your list is updated'\n",
    "                \n",
    "            else:\n",
    "                continue;\n",
    "        print('Entered Task is not present')\n",
    "                \n",
    "    def DisplayTasks(self):\n",
    "        return self.AllTasks;\n",
    "    \n",
    "        \n",
    "            \n",
    "        "
   ]
  },
  {
   "cell_type": "code",
   "execution_count": 63,
   "id": "8d0dbc39",
   "metadata": {},
   "outputs": [
    {
     "name": "stdout",
     "output_type": "stream",
     "text": [
      "Enter Tasks by giving commaHomeWork\n",
      "Enter Tasks Description by giving CommaClassWala\n",
      "Enter due date in DD-MM-YYYY format by giving comma3-DEC-2023\n",
      "Enter Task Statuspending\n"
     ]
    }
   ],
   "source": [
    "rohit = ToDoList()"
   ]
  },
  {
   "cell_type": "code",
   "execution_count": 64,
   "id": "a09d479c",
   "metadata": {},
   "outputs": [
    {
     "data": {
      "text/plain": [
       "{'HomeWork': 'pending'}"
      ]
     },
     "execution_count": 64,
     "metadata": {},
     "output_type": "execute_result"
    }
   ],
   "source": [
    "rohit.PendingTasks()"
   ]
  },
  {
   "cell_type": "code",
   "execution_count": 65,
   "id": "17c4be54",
   "metadata": {},
   "outputs": [
    {
     "name": "stdout",
     "output_type": "stream",
     "text": [
      "Enter Tasks to add to your listsWorkOut\n",
      "Enter Task Description HereGym\n",
      "Enter the current Status of your Tasks4-DEC-2023\n",
      "Enter the task due date in DD-MM-YYYY format4-Dec-2023\n"
     ]
    }
   ],
   "source": [
    "rohit.AddTasks()"
   ]
  },
  {
   "cell_type": "code",
   "execution_count": 66,
   "id": "2f92e2ed",
   "metadata": {},
   "outputs": [
    {
     "data": {
      "text/plain": [
       "{'HomeWork': 'pending', 'WorkOut': '4-DEC-2023'}"
      ]
     },
     "execution_count": 66,
     "metadata": {},
     "output_type": "execute_result"
    }
   ],
   "source": [
    "rohit.PendingTasks()"
   ]
  },
  {
   "cell_type": "code",
   "execution_count": 67,
   "id": "66d9f69d",
   "metadata": {},
   "outputs": [
    {
     "name": "stdout",
     "output_type": "stream",
     "text": [
      "Enter Task you want to mark CompletedHomeWork\n"
     ]
    },
    {
     "data": {
      "text/plain": [
       "'Your list is updated'"
      ]
     },
     "execution_count": 67,
     "metadata": {},
     "output_type": "execute_result"
    }
   ],
   "source": [
    "rohit.MarkedCompleted()"
   ]
  },
  {
   "cell_type": "code",
   "execution_count": 68,
   "id": "b5903391",
   "metadata": {},
   "outputs": [
    {
     "data": {
      "text/plain": [
       "{'WorkOut': '4-DEC-2023'}"
      ]
     },
     "execution_count": 68,
     "metadata": {},
     "output_type": "execute_result"
    }
   ],
   "source": [
    "rohit.PendingTasks()"
   ]
  },
  {
   "cell_type": "code",
   "execution_count": 69,
   "id": "505093c6",
   "metadata": {},
   "outputs": [
    {
     "data": {
      "text/plain": [
       "{'HomeWork': 'ClassWala', 'WorkOut': 'Gym'}"
      ]
     },
     "execution_count": 69,
     "metadata": {},
     "output_type": "execute_result"
    }
   ],
   "source": [
    "rohit.DisplayTasks()"
   ]
  },
  {
   "cell_type": "code",
   "execution_count": null,
   "id": "558907c7",
   "metadata": {},
   "outputs": [],
   "source": []
  },
  {
   "cell_type": "code",
   "execution_count": null,
   "id": "15670b6b",
   "metadata": {},
   "outputs": [],
   "source": []
  }
 ],
 "metadata": {
  "kernelspec": {
   "display_name": "Python 3 (ipykernel)",
   "language": "python",
   "name": "python3"
  },
  "language_info": {
   "codemirror_mode": {
    "name": "ipython",
    "version": 3
   },
   "file_extension": ".py",
   "mimetype": "text/x-python",
   "name": "python",
   "nbconvert_exporter": "python",
   "pygments_lexer": "ipython3",
   "version": "3.10.9"
  }
 },
 "nbformat": 4,
 "nbformat_minor": 5
}
